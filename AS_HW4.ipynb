{
  "nbformat": 4,
  "nbformat_minor": 0,
  "metadata": {
    "colab": {
      "provenance": []
    },
    "kernelspec": {
      "name": "python3",
      "display_name": "Python 3"
    },
    "language_info": {
      "name": "python"
    }
  },
  "cells": [
    {
      "cell_type": "markdown",
      "source": [
        "Условие: есть набор данных о продажах продуктов с информацией о дате продаж, категории продукта, количестве и выручке от продаж.\n",
        "\n",
        "Используя Apache Spark, загрузите предоставленный набор данных в DataFrame.\n",
        "Столбцы: \"date\", \"category\", \"quantity\", \"revenue\".\n",
        "\n",
        "С использованием оконных функций, рассчитайте среднее выручки от продаж для каждой категории продукта.\n",
        "\n",
        "Примените операцию pivot для того, чтобы преобразовать полученные данные таким образом, чтобы в качестве строк были категории продуктов, в качестве столбцов были дни, а значениями были средние значения выручки от продаж за соответствующий день"
      ],
      "metadata": {
        "id": "JEbAR_dZAlgT"
      }
    },
    {
      "cell_type": "code",
      "execution_count": 1,
      "metadata": {
        "id": "92kQSYM5_5gQ"
      },
      "outputs": [],
      "source": [
        "!pip install pyspark >> None"
      ]
    },
    {
      "cell_type": "code",
      "source": [
        "from pyspark.sql import SparkSession\n",
        "from pyspark.sql.functions import avg,col\n",
        "import pyspark.sql.functions as F\n",
        "from pyspark.sql import Window"
      ],
      "metadata": {
        "id": "ia4wSsH2ATJW"
      },
      "execution_count": 2,
      "outputs": []
    },
    {
      "cell_type": "code",
      "source": [
        "# Создание сессии Spark\n",
        "spark = SparkSession.builder.appName(\"window_average_revenue\").getOrCreate()\n"
      ],
      "metadata": {
        "id": "4eZnQSshAkhL"
      },
      "execution_count": 3,
      "outputs": []
    },
    {
      "cell_type": "code",
      "source": [
        "# Загрузка данных о продажах\n",
        "sales_data = [(\"2023-11-20\", \"Electronics\", 100, 12000),\n",
        "              (\"2023-11-21\", \"Electronics\", 110, 13000),\n",
        "              (\"2023-11-22\", \"Electronics\", 105, 12500),\n",
        "              (\"2023-11-20\", \"Clothing\", 300, 15000),\n",
        "              (\"2023-11-21\", \"Clothing\", 280, 14000),\n",
        "              (\"2023-11-22\", \"Clothing\", 320, 16000),\n",
        "              (\"2023-11-20\", \"Books\", 150, 9000),\n",
        "              (\"2023-11-21\", \"Books\", 200, 12000),\n",
        "              (\"2023-11-22\", \"Books\", 180, 10000)\n",
        "]\n",
        "\n",
        "sales_df = spark.createDataFrame(sales_data, [\"date\", \"category\", \"quantity\", \"revenue\"])"
      ],
      "metadata": {
        "id": "Y_u7jIM_Cnpl"
      },
      "execution_count": 4,
      "outputs": []
    },
    {
      "cell_type": "code",
      "source": [
        "# Оконная функция для нахождения среднего значения продаж для каждой категории продукта за каждый день\n",
        "avg_sales_window = Window.partitionBy(\"category\", \"date\").orderBy(\"date\")"
      ],
      "metadata": {
        "id": "mNkNc163DzvH"
      },
      "execution_count": 6,
      "outputs": []
    },
    {
      "cell_type": "code",
      "source": [
        "# Создаем новый столбец в датафрейме для нахождения среднего значения и используем оконную функцию\n",
        "sales_df = sales_df.withColumn(\"avg_sales\", F.avg(\"revenue\").over(avg_sales_window))\n",
        "sales_df.show()"
      ],
      "metadata": {
        "id": "wFL61BX7HlbF",
        "colab": {
          "base_uri": "https://localhost:8080/"
        },
        "outputId": "9a96de58-6cc1-4db5-bcaa-4afd9cf5c179"
      },
      "execution_count": 7,
      "outputs": [
        {
          "output_type": "stream",
          "name": "stdout",
          "text": [
            "+----------+-----------+--------+-------+---------+\n",
            "|      date|   category|quantity|revenue|avg_sales|\n",
            "+----------+-----------+--------+-------+---------+\n",
            "|2023-11-20|      Books|     150|   9000|   9000.0|\n",
            "|2023-11-21|      Books|     200|  12000|  12000.0|\n",
            "|2023-11-22|      Books|     180|  10000|  10000.0|\n",
            "|2023-11-20|   Clothing|     300|  15000|  15000.0|\n",
            "|2023-11-21|   Clothing|     280|  14000|  14000.0|\n",
            "|2023-11-22|   Clothing|     320|  16000|  16000.0|\n",
            "|2023-11-20|Electronics|     100|  12000|  12000.0|\n",
            "|2023-11-21|Electronics|     110|  13000|  13000.0|\n",
            "|2023-11-22|Electronics|     105|  12500|  12500.0|\n",
            "+----------+-----------+--------+-------+---------+\n",
            "\n"
          ]
        }
      ]
    },
    {
      "cell_type": "code",
      "source": [
        "# Применение функции pivot\n",
        "pivot_df = sales_df.groupBy(\"category\").pivot(\"date\").agg(F.avg(\"avg_sales\"))\n",
        "pivot_df.show()"
      ],
      "metadata": {
        "colab": {
          "base_uri": "https://localhost:8080/"
        },
        "id": "wSLcXtTXEorD",
        "outputId": "e2abd1c3-aa21-4db8-ee6f-9b7b4ccb96e9"
      },
      "execution_count": 8,
      "outputs": [
        {
          "output_type": "stream",
          "name": "stdout",
          "text": [
            "+-----------+----------+----------+----------+\n",
            "|   category|2023-11-20|2023-11-21|2023-11-22|\n",
            "+-----------+----------+----------+----------+\n",
            "|Electronics|   12000.0|   13000.0|   12500.0|\n",
            "|   Clothing|   15000.0|   14000.0|   16000.0|\n",
            "|      Books|    9000.0|   12000.0|   10000.0|\n",
            "+-----------+----------+----------+----------+\n",
            "\n"
          ]
        }
      ]
    }
  ]
}