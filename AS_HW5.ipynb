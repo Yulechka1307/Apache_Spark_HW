{
  "nbformat": 4,
  "nbformat_minor": 0,
  "metadata": {
    "colab": {
      "provenance": []
    },
    "kernelspec": {
      "name": "python3",
      "display_name": "Python 3"
    },
    "language_info": {
      "name": "python"
    }
  },
  "cells": [
    {
      "cell_type": "markdown",
      "source": [
        "Условие: создайте csv файл с таким содержимым:\n",
        "\n",
        "title,author,genre,sales,year\n",
        "\n",
        "\"1984\", \"George Orwell\", \"Science Fiction\", 5000, 1949\n",
        "\n",
        "\"The Lord of the Rings\", \"J.R.R. Tolkien\", \"Fantasy\", 3000, 1954\n",
        "\n",
        "\"To Kill a Mockingbird\", \"Harper Lee\", \"Southern Gothic\", 4000, 1960\n",
        "\n",
        "\"The Catcher in the Rye\", \"J.D. Salinger\", \"Novel\", 2000, 1951\n",
        "\n",
        "\"The Great Gatsby\", \"F. Scott Fitzgerald\", \"Novel\", 4500, 1925\n",
        "\n",
        "Задание:\n",
        "\n",
        "— Используя Spark прочитайте данные из файла csv.\n",
        "— Фильтруйте данные, чтобы оставить только книги, продажи которых превышают 3000 экземпляров.\n",
        "— Сгруппируйте данные по жанру и вычислите общий объем продаж для каждого жанра.\n",
        "— Отсортируйте данные по общему объему продаж в порядке убывания.\n",
        "— Выведите результаты на экран."
      ],
      "metadata": {
        "id": "LLId4c--ROY6"
      }
    },
    {
      "cell_type": "code",
      "execution_count": 1,
      "metadata": {
        "id": "0Bzg9dNcRKXw"
      },
      "outputs": [],
      "source": [
        "!pip install pyspark >> None"
      ]
    },
    {
      "cell_type": "code",
      "source": [
        "from pyspark.sql import SparkSession\n",
        "from pyspark.sql.functions import avg,col\n",
        "import pyspark.sql.functions as F\n",
        "from pyspark.sql import Window"
      ],
      "metadata": {
        "id": "2Q55YtheRicV"
      },
      "execution_count": 2,
      "outputs": []
    },
    {
      "cell_type": "code",
      "source": [
        "# Создание сессии Spark для сохранения датафрейма\n",
        "sp = SparkSession.builder.appName(\"save_csv\").getOrCreate()"
      ],
      "metadata": {
        "id": "1bdJtIupRkUL"
      },
      "execution_count": 3,
      "outputs": []
    },
    {
      "cell_type": "code",
      "source": [
        "# Загрузка данных о продажах книг\n",
        "sales_data = [(\"1984\", \"George Orwell\", \"Science Fiction\", 5000, 1949),\n",
        "              (\"The Lord of the Rings\", \"J.R.R. Tolkien\", \"Fantasy\", 3000, 1954),\n",
        "              (\"To Kill a Mockingbird\", \"Harper Lee\", \"Southern Gothic\", 4000, 1960),\n",
        "              (\"The Catcher in the Rye\", \"J.D. Salinger\", \"Novel\", 2000, 1951),\n",
        "              (\"The Great Gatsby\", \"F. Scott Fitzgerald\", \"Novel\", 4500, 1925)\n",
        "]\n",
        "\n",
        "sales_df = sp.createDataFrame(sales_data, [\"title\",\"author\", \"genre\", \"sales\", \"year\"])"
      ],
      "metadata": {
        "id": "QdKOJ-tvR2mz"
      },
      "execution_count": 4,
      "outputs": []
    },
    {
      "cell_type": "code",
      "source": [
        "# Записываем датафрейм в csv\n",
        "sales_df.write.csv(\"sales_df.csv\", header=True)"
      ],
      "metadata": {
        "id": "LNJsQ5mdS3ls"
      },
      "execution_count": 5,
      "outputs": []
    },
    {
      "cell_type": "code",
      "source": [
        "# Создание сессии Spark для выполнения задания\n",
        "spark = SparkSession.builder.appName(\"books_sales\").getOrCreate()"
      ],
      "metadata": {
        "id": "BLXrYDtaTnT5"
      },
      "execution_count": 6,
      "outputs": []
    },
    {
      "cell_type": "code",
      "source": [
        "# Считываем данные из csv\n",
        "sales_df=spark.read.option('header', 'true').csv('sales_df.csv')\n",
        "sales_df.show()"
      ],
      "metadata": {
        "colab": {
          "base_uri": "https://localhost:8080/"
        },
        "id": "Uq-lQ4qSUQfB",
        "outputId": "2c95900f-1dfe-4057-dd17-b1de9597eed2"
      },
      "execution_count": 7,
      "outputs": [
        {
          "output_type": "stream",
          "name": "stdout",
          "text": [
            "+--------------------+-------------------+---------------+-----+----+\n",
            "|               title|             author|          genre|sales|year|\n",
            "+--------------------+-------------------+---------------+-----+----+\n",
            "|To Kill a Mocking...|         Harper Lee|Southern Gothic| 4000|1960|\n",
            "|The Catcher in th...|      J.D. Salinger|          Novel| 2000|1951|\n",
            "|    The Great Gatsby|F. Scott Fitzgerald|          Novel| 4500|1925|\n",
            "|                1984|      George Orwell|Science Fiction| 5000|1949|\n",
            "|The Lord of the R...|     J.R.R. Tolkien|        Fantasy| 3000|1954|\n",
            "+--------------------+-------------------+---------------+-----+----+\n",
            "\n"
          ]
        }
      ]
    },
    {
      "cell_type": "code",
      "source": [
        "# Фильтр данных, чтобы оставить только книги, продажи которых превышают 3000 экземпляров\n",
        "filtered_df = sales_df.filter(col('sales')>3000)\n",
        "filtered_df.show()"
      ],
      "metadata": {
        "colab": {
          "base_uri": "https://localhost:8080/"
        },
        "id": "LSOwkXYlVX-0",
        "outputId": "dcfa793f-d8a9-4b82-8ed8-65d9d01bd951"
      },
      "execution_count": 8,
      "outputs": [
        {
          "output_type": "stream",
          "name": "stdout",
          "text": [
            "+--------------------+-------------------+---------------+-----+----+\n",
            "|               title|             author|          genre|sales|year|\n",
            "+--------------------+-------------------+---------------+-----+----+\n",
            "|To Kill a Mocking...|         Harper Lee|Southern Gothic| 4000|1960|\n",
            "|    The Great Gatsby|F. Scott Fitzgerald|          Novel| 4500|1925|\n",
            "|                1984|      George Orwell|Science Fiction| 5000|1949|\n",
            "+--------------------+-------------------+---------------+-----+----+\n",
            "\n"
          ]
        }
      ]
    },
    {
      "cell_type": "code",
      "source": [
        "# Группировка данных по жанру с вычислением общего объема продаж для каждого жанра. Сортировка по общему объему продаж в порядке убывания\n",
        "# Использован полный датафрейм, без учета фильтра. Если нужно было последовательно выполнить задания, то использовали бы датафрейм filtered_df.\n",
        "\n",
        "sales_df=sales_df.groupBy('genre')\\\n",
        "  .agg(F.sum(\"sales\").alias(\"sum_sales\"))\\\n",
        "  .orderBy('sum_sales', ascending=False)\n",
        "\n",
        "sales_df.show()"
      ],
      "metadata": {
        "colab": {
          "base_uri": "https://localhost:8080/"
        },
        "id": "b9MHiEamWOwm",
        "outputId": "203fd412-dc61-47fb-dc16-32b379258267"
      },
      "execution_count": 9,
      "outputs": [
        {
          "output_type": "stream",
          "name": "stdout",
          "text": [
            "+---------------+---------+\n",
            "|          genre|sum_sales|\n",
            "+---------------+---------+\n",
            "|          Novel|   6500.0|\n",
            "|Science Fiction|   5000.0|\n",
            "|Southern Gothic|   4000.0|\n",
            "|        Fantasy|   3000.0|\n",
            "+---------------+---------+\n",
            "\n"
          ]
        }
      ]
    }
  ]
}